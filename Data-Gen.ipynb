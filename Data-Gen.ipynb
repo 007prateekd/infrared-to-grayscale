{
 "cells": [
  {
   "cell_type": "markdown",
   "metadata": {
    "tags": []
   },
   "source": [
    "## Data-Gen.ipynb\n",
    "### This notebook extracts data from all the zip files. Then, all the colored images are converted into grayscale while also storing the (thermal, grayscale) image pairs in a dataframe. Finally the dataframe is stored in the memory for further usage."
   ]
  },
  {
   "cell_type": "code",
   "execution_count": 1,
   "metadata": {
    "execution": {
     "iopub.execute_input": "2021-11-05T18:45:43.456939Z",
     "iopub.status.busy": "2021-11-05T18:45:43.456634Z",
     "iopub.status.idle": "2021-11-05T18:45:44.100059Z",
     "shell.execute_reply": "2021-11-05T18:45:44.099464Z",
     "shell.execute_reply.started": "2021-11-05T18:45:43.456910Z"
    },
    "tags": []
   },
   "outputs": [],
   "source": [
    "# Imports\n",
    "import os\n",
    "import pandas as pd\n",
    "import matplotlib.pyplot as plt\n",
    "import zipfile\n",
    "import cv2"
   ]
  },
  {
   "cell_type": "code",
   "execution_count": 3,
   "metadata": {
    "execution": {
     "iopub.execute_input": "2021-11-05T18:46:11.379584Z",
     "iopub.status.busy": "2021-11-05T18:46:11.379311Z",
     "iopub.status.idle": "2021-11-05T18:46:50.553106Z",
     "shell.execute_reply": "2021-11-05T18:46:50.552430Z",
     "shell.execute_reply.started": "2021-11-05T18:46:11.379553Z"
    },
    "tags": []
   },
   "outputs": [],
   "source": [
    "# Extract data from zip files\n",
    "ZIP_PATH = os.path.join(\"Dataset\", \"Zipped\")\n",
    "UNZIP_PATH = os.path.join(\"Dataset\", \"Unzipped\")\n",
    "if not os.path.isdir(UNZIP_PATH):\n",
    "    os.mkdir(UNZIP_PATH)\n",
    "for zips in os.listdir(ZIP_PATH):    \n",
    "    with zipfile.ZipFile(os.path.join(ZIP_PATH, zips), 'r') as zip_ref:\n",
    "        zip_ref.extractall(UNZIP_PATH)"
   ]
  },
  {
   "cell_type": "code",
   "execution_count": 5,
   "metadata": {
    "execution": {
     "iopub.execute_input": "2021-11-05T18:47:06.029507Z",
     "iopub.status.busy": "2021-11-05T18:47:06.029243Z",
     "iopub.status.idle": "2021-11-05T18:47:11.381006Z",
     "shell.execute_reply": "2021-11-05T18:47:11.380300Z",
     "shell.execute_reply.started": "2021-11-05T18:47:06.029482Z"
    },
    "tags": []
   },
   "outputs": [],
   "source": [
    "# Convert RGB images to grayscale\n",
    "for dir_ in os.listdir(UNZIP_PATH):\n",
    "    if dir_[-1] == 'b': \n",
    "        dir_path = os.path.join(UNZIP_PATH, dir_)\n",
    "        for img in os.listdir(dir_path):\n",
    "            img_path = os.path.join(dir_path, img)\n",
    "            gray = cv2.imread(img_path, 0)\n",
    "            cv2.imwrite(img_path, gray)"
   ]
  },
  {
   "cell_type": "code",
   "execution_count": 12,
   "metadata": {
    "execution": {
     "iopub.execute_input": "2021-11-05T18:56:56.146468Z",
     "iopub.status.busy": "2021-11-05T18:56:56.146285Z",
     "iopub.status.idle": "2021-11-05T18:56:56.265240Z",
     "shell.execute_reply": "2021-11-05T18:56:56.264439Z",
     "shell.execute_reply.started": "2021-11-05T18:56:56.146446Z"
    },
    "tags": []
   },
   "outputs": [
    {
     "name": "stdout",
     "output_type": "stream",
     "text": [
      "(8544, 2)\n"
     ]
    },
    {
     "data": {
      "text/html": [
       "<div>\n",
       "<style scoped>\n",
       "    .dataframe tbody tr th:only-of-type {\n",
       "        vertical-align: middle;\n",
       "    }\n",
       "\n",
       "    .dataframe tbody tr th {\n",
       "        vertical-align: top;\n",
       "    }\n",
       "\n",
       "    .dataframe thead th {\n",
       "        text-align: right;\n",
       "    }\n",
       "</style>\n",
       "<table border=\"1\" class=\"dataframe\">\n",
       "  <thead>\n",
       "    <tr style=\"text-align: right;\">\n",
       "      <th></th>\n",
       "      <th>Thermal</th>\n",
       "      <th>Grayscale</th>\n",
       "    </tr>\n",
       "  </thead>\n",
       "  <tbody>\n",
       "    <tr>\n",
       "      <th>0</th>\n",
       "      <td>/home/prateekd007/Desktop/Work/College/Sem-5/M...</td>\n",
       "      <td>/home/prateekd007/Desktop/Work/College/Sem-5/M...</td>\n",
       "    </tr>\n",
       "    <tr>\n",
       "      <th>1</th>\n",
       "      <td>/home/prateekd007/Desktop/Work/College/Sem-5/M...</td>\n",
       "      <td>/home/prateekd007/Desktop/Work/College/Sem-5/M...</td>\n",
       "    </tr>\n",
       "    <tr>\n",
       "      <th>2</th>\n",
       "      <td>/home/prateekd007/Desktop/Work/College/Sem-5/M...</td>\n",
       "      <td>/home/prateekd007/Desktop/Work/College/Sem-5/M...</td>\n",
       "    </tr>\n",
       "    <tr>\n",
       "      <th>3</th>\n",
       "      <td>/home/prateekd007/Desktop/Work/College/Sem-5/M...</td>\n",
       "      <td>/home/prateekd007/Desktop/Work/College/Sem-5/M...</td>\n",
       "    </tr>\n",
       "    <tr>\n",
       "      <th>4</th>\n",
       "      <td>/home/prateekd007/Desktop/Work/College/Sem-5/M...</td>\n",
       "      <td>/home/prateekd007/Desktop/Work/College/Sem-5/M...</td>\n",
       "    </tr>\n",
       "  </tbody>\n",
       "</table>\n",
       "</div>"
      ],
      "text/plain": [
       "                                             Thermal  \\\n",
       "0  /home/prateekd007/Desktop/Work/College/Sem-5/M...   \n",
       "1  /home/prateekd007/Desktop/Work/College/Sem-5/M...   \n",
       "2  /home/prateekd007/Desktop/Work/College/Sem-5/M...   \n",
       "3  /home/prateekd007/Desktop/Work/College/Sem-5/M...   \n",
       "4  /home/prateekd007/Desktop/Work/College/Sem-5/M...   \n",
       "\n",
       "                                           Grayscale  \n",
       "0  /home/prateekd007/Desktop/Work/College/Sem-5/M...  \n",
       "1  /home/prateekd007/Desktop/Work/College/Sem-5/M...  \n",
       "2  /home/prateekd007/Desktop/Work/College/Sem-5/M...  \n",
       "3  /home/prateekd007/Desktop/Work/College/Sem-5/M...  \n",
       "4  /home/prateekd007/Desktop/Work/College/Sem-5/M...  "
      ]
     },
     "execution_count": 12,
     "metadata": {},
     "output_type": "execute_result"
    }
   ],
   "source": [
    "# Store thermal and corresponding grayscale image in a dataframe\n",
    "img_pairs = {'Thermal': [], 'Grayscale': []}\n",
    "for dir_ in sorted(os.listdir(UNZIP_PATH)):\n",
    "    dir_path = os.path.join(UNZIP_PATH, dir_)\n",
    "    for img in sorted(os.listdir(dir_path)):\n",
    "        img_path = os.path.join(os.path.abspath(dir_path), img)\n",
    "        if dir_[-1] == 'a':\n",
    "            img_pairs['Thermal'].append(img_path)\n",
    "        elif dir_[-1] == 'b' and len(img_pairs['Grayscale']) < len(img_pairs['Thermal']):\n",
    "            img_pairs['Grayscale'].append(img_path)\n",
    "        else:\n",
    "            os.remove(img_path)\n",
    "            \n",
    "df = pd.DataFrame(img_pairs)\n",
    "print(df.shape)\n",
    "df.head()"
   ]
  },
  {
   "cell_type": "code",
   "execution_count": 7,
   "metadata": {
    "execution": {
     "iopub.execute_input": "2021-11-05T18:47:51.597704Z",
     "iopub.status.busy": "2021-11-05T18:47:51.597460Z",
     "iopub.status.idle": "2021-11-05T18:47:51.605783Z",
     "shell.execute_reply": "2021-11-05T18:47:51.605141Z",
     "shell.execute_reply.started": "2021-11-05T18:47:51.597681Z"
    },
    "tags": []
   },
   "outputs": [],
   "source": [
    "# Store dataframe in memory\n",
    "PICKLE_PATH = \"Pickles\"\n",
    "df.to_pickle(os.path.join(PICKLE_PATH, \"df.pkl\"))"
   ]
  }
 ],
 "metadata": {
  "kernelspec": {
   "display_name": "Python 3",
   "language": "python",
   "name": "python3"
  },
  "language_info": {
   "codemirror_mode": {
    "name": "ipython",
    "version": 3
   },
   "file_extension": ".py",
   "mimetype": "text/x-python",
   "name": "python",
   "nbconvert_exporter": "python",
   "pygments_lexer": "ipython3",
   "version": "3.8.10"
  }
 },
 "nbformat": 4,
 "nbformat_minor": 4
}
